{
 "cells": [
  {
   "cell_type": "markdown",
   "metadata": {},
   "source": [
    "## Modeling maybe"
   ]
  },
  {
   "cell_type": "code",
   "execution_count": 74,
   "metadata": {},
   "outputs": [],
   "source": [
    "import pandas as pd\n",
    "import numpy as np\n",
    "import matplotlib.pyplot as plt\n",
    "import seaborn as sns\n",
    "import statsmodels.api as sm\n",
    "from datetime import datetime\n",
    "from datetime import timedelta\n",
    "\n",
    "from sklearn.preprocessing import StandardScaler, PolynomialFeatures\n",
    "from sklearn.linear_model import LogisticRegression\n",
    "from sklearn.neighbors import KNeighborsClassifier\n",
    "from sklearn.tree import DecisionTreeClassifier\n",
    "from sklearn.ensemble import BaggingClassifier, RandomForestClassifier, AdaBoostClassifier\n",
    "from sklearn.pipeline import Pipeline\n",
    "from sklearn.model_selection import train_test_split, cross_val_score, GridSearchCV\n",
    "from sklearn.svm import SVC\n",
    "from sklearn.metrics import roc_curve, auc\n",
    "\n",
    "%matplotlib inline"
   ]
  },
  {
   "cell_type": "code",
   "execution_count": 75,
   "metadata": {},
   "outputs": [],
   "source": [
    "train_csv = \"./train_weather_per_station-Copy1.csv\"\n",
    "train=pd.read_csv(train_csv)\n",
    "\n",
    "test_csv = \"./test_weather_per_station-Copy1.csv\"\n",
    "test=pd.read_csv(test_csv)"
   ]
  },
  {
   "cell_type": "code",
   "execution_count": 76,
   "metadata": {},
   "outputs": [],
   "source": [
    "pd.set_option(\"display.max_columns\",50)"
   ]
  },
  {
   "cell_type": "code",
   "execution_count": 77,
   "metadata": {
    "scrolled": false
   },
   "outputs": [
    {
     "data": {
      "text/html": [
       "<div>\n",
       "<style scoped>\n",
       "    .dataframe tbody tr th:only-of-type {\n",
       "        vertical-align: middle;\n",
       "    }\n",
       "\n",
       "    .dataframe tbody tr th {\n",
       "        vertical-align: top;\n",
       "    }\n",
       "\n",
       "    .dataframe thead th {\n",
       "        text-align: right;\n",
       "    }\n",
       "</style>\n",
       "<table border=\"1\" class=\"dataframe\">\n",
       "  <thead>\n",
       "    <tr style=\"text-align: right;\">\n",
       "      <th></th>\n",
       "      <th>Date</th>\n",
       "      <th>Num_Duplicates</th>\n",
       "      <th>WnvPresent</th>\n",
       "      <th>Year</th>\n",
       "      <th>Month</th>\n",
       "      <th>Day</th>\n",
       "      <th>CULEX ERRATICUS</th>\n",
       "      <th>CULEX PIPIENS</th>\n",
       "      <th>CULEX PIPIENS/RESTUANS</th>\n",
       "      <th>CULEX RESTUANS</th>\n",
       "      <th>CULEX SALINARIUS</th>\n",
       "      <th>CULEX TARSALIS</th>\n",
       "      <th>CULEX TERRITANS</th>\n",
       "      <th>Tmax</th>\n",
       "      <th>Tmin</th>\n",
       "      <th>Tavg</th>\n",
       "      <th>Depart</th>\n",
       "      <th>DewPoint</th>\n",
       "      <th>WetBulb</th>\n",
       "      <th>Cool</th>\n",
       "      <th>Sunrise</th>\n",
       "      <th>Sunset</th>\n",
       "      <th>PrecipTotal</th>\n",
       "      <th>ResultSpeed</th>\n",
       "      <th>ResultDir</th>\n",
       "    </tr>\n",
       "  </thead>\n",
       "  <tbody>\n",
       "    <tr>\n",
       "      <th>0</th>\n",
       "      <td>2007-05-29</td>\n",
       "      <td>1</td>\n",
       "      <td>0</td>\n",
       "      <td>2007</td>\n",
       "      <td>5</td>\n",
       "      <td>29</td>\n",
       "      <td>0</td>\n",
       "      <td>0</td>\n",
       "      <td>1</td>\n",
       "      <td>0</td>\n",
       "      <td>0</td>\n",
       "      <td>0</td>\n",
       "      <td>0</td>\n",
       "      <td>88</td>\n",
       "      <td>60</td>\n",
       "      <td>74</td>\n",
       "      <td>10</td>\n",
       "      <td>58</td>\n",
       "      <td>65</td>\n",
       "      <td>9</td>\n",
       "      <td>421</td>\n",
       "      <td>1917</td>\n",
       "      <td>0.0</td>\n",
       "      <td>5.8</td>\n",
       "      <td>18</td>\n",
       "    </tr>\n",
       "    <tr>\n",
       "      <th>1</th>\n",
       "      <td>2007-05-29</td>\n",
       "      <td>1</td>\n",
       "      <td>0</td>\n",
       "      <td>2007</td>\n",
       "      <td>5</td>\n",
       "      <td>29</td>\n",
       "      <td>0</td>\n",
       "      <td>0</td>\n",
       "      <td>0</td>\n",
       "      <td>1</td>\n",
       "      <td>0</td>\n",
       "      <td>0</td>\n",
       "      <td>0</td>\n",
       "      <td>88</td>\n",
       "      <td>60</td>\n",
       "      <td>74</td>\n",
       "      <td>10</td>\n",
       "      <td>58</td>\n",
       "      <td>65</td>\n",
       "      <td>9</td>\n",
       "      <td>421</td>\n",
       "      <td>1917</td>\n",
       "      <td>0.0</td>\n",
       "      <td>5.8</td>\n",
       "      <td>18</td>\n",
       "    </tr>\n",
       "    <tr>\n",
       "      <th>2</th>\n",
       "      <td>2007-05-29</td>\n",
       "      <td>1</td>\n",
       "      <td>0</td>\n",
       "      <td>2007</td>\n",
       "      <td>5</td>\n",
       "      <td>29</td>\n",
       "      <td>0</td>\n",
       "      <td>0</td>\n",
       "      <td>0</td>\n",
       "      <td>1</td>\n",
       "      <td>0</td>\n",
       "      <td>0</td>\n",
       "      <td>0</td>\n",
       "      <td>88</td>\n",
       "      <td>60</td>\n",
       "      <td>74</td>\n",
       "      <td>10</td>\n",
       "      <td>58</td>\n",
       "      <td>65</td>\n",
       "      <td>9</td>\n",
       "      <td>421</td>\n",
       "      <td>1917</td>\n",
       "      <td>0.0</td>\n",
       "      <td>5.8</td>\n",
       "      <td>18</td>\n",
       "    </tr>\n",
       "    <tr>\n",
       "      <th>3</th>\n",
       "      <td>2007-05-29</td>\n",
       "      <td>1</td>\n",
       "      <td>0</td>\n",
       "      <td>2007</td>\n",
       "      <td>5</td>\n",
       "      <td>29</td>\n",
       "      <td>0</td>\n",
       "      <td>0</td>\n",
       "      <td>1</td>\n",
       "      <td>0</td>\n",
       "      <td>0</td>\n",
       "      <td>0</td>\n",
       "      <td>0</td>\n",
       "      <td>88</td>\n",
       "      <td>60</td>\n",
       "      <td>74</td>\n",
       "      <td>10</td>\n",
       "      <td>58</td>\n",
       "      <td>65</td>\n",
       "      <td>9</td>\n",
       "      <td>421</td>\n",
       "      <td>1917</td>\n",
       "      <td>0.0</td>\n",
       "      <td>5.8</td>\n",
       "      <td>18</td>\n",
       "    </tr>\n",
       "    <tr>\n",
       "      <th>4</th>\n",
       "      <td>2007-05-29</td>\n",
       "      <td>1</td>\n",
       "      <td>0</td>\n",
       "      <td>2007</td>\n",
       "      <td>5</td>\n",
       "      <td>29</td>\n",
       "      <td>0</td>\n",
       "      <td>0</td>\n",
       "      <td>0</td>\n",
       "      <td>1</td>\n",
       "      <td>0</td>\n",
       "      <td>0</td>\n",
       "      <td>0</td>\n",
       "      <td>88</td>\n",
       "      <td>60</td>\n",
       "      <td>74</td>\n",
       "      <td>10</td>\n",
       "      <td>58</td>\n",
       "      <td>65</td>\n",
       "      <td>9</td>\n",
       "      <td>421</td>\n",
       "      <td>1917</td>\n",
       "      <td>0.0</td>\n",
       "      <td>5.8</td>\n",
       "      <td>18</td>\n",
       "    </tr>\n",
       "  </tbody>\n",
       "</table>\n",
       "</div>"
      ],
      "text/plain": [
       "         Date  Num_Duplicates  WnvPresent  Year  Month  Day  CULEX ERRATICUS  \\\n",
       "0  2007-05-29               1           0  2007      5   29                0   \n",
       "1  2007-05-29               1           0  2007      5   29                0   \n",
       "2  2007-05-29               1           0  2007      5   29                0   \n",
       "3  2007-05-29               1           0  2007      5   29                0   \n",
       "4  2007-05-29               1           0  2007      5   29                0   \n",
       "\n",
       "   CULEX PIPIENS  CULEX PIPIENS/RESTUANS  CULEX RESTUANS  CULEX SALINARIUS  \\\n",
       "0              0                       1               0                 0   \n",
       "1              0                       0               1                 0   \n",
       "2              0                       0               1                 0   \n",
       "3              0                       1               0                 0   \n",
       "4              0                       0               1                 0   \n",
       "\n",
       "   CULEX TARSALIS  CULEX TERRITANS  Tmax  Tmin  Tavg  Depart  DewPoint  \\\n",
       "0               0                0    88    60    74      10        58   \n",
       "1               0                0    88    60    74      10        58   \n",
       "2               0                0    88    60    74      10        58   \n",
       "3               0                0    88    60    74      10        58   \n",
       "4               0                0    88    60    74      10        58   \n",
       "\n",
       "   WetBulb  Cool  Sunrise  Sunset  PrecipTotal  ResultSpeed  ResultDir  \n",
       "0       65     9      421    1917          0.0          5.8         18  \n",
       "1       65     9      421    1917          0.0          5.8         18  \n",
       "2       65     9      421    1917          0.0          5.8         18  \n",
       "3       65     9      421    1917          0.0          5.8         18  \n",
       "4       65     9      421    1917          0.0          5.8         18  "
      ]
     },
     "execution_count": 77,
     "metadata": {},
     "output_type": "execute_result"
    }
   ],
   "source": [
    "train.head()"
   ]
  },
  {
   "cell_type": "markdown",
   "metadata": {},
   "source": [
    "## Setting up the data for modeling"
   ]
  },
  {
   "cell_type": "code",
   "execution_count": 78,
   "metadata": {},
   "outputs": [],
   "source": [
    "# creating polynomial interactions of just the weather features\n",
    "\n",
    "pf = PolynomialFeatures(include_bias=False)\n",
    "weather_features = [\"Tmax\", \"Tmin\", \"Tavg\", \"Depart\", \"DewPoint\", \"WetBulb\", \"Cool\", \"Sunrise\", \"Sunset\",\n",
    "                   \"PrecipTotal\", \"ResultSpeed\", \"ResultDir\"]\n",
    "polyed_weather = pf.fit_transform(train[weather_features])\n",
    "polyweather_df = pd.DataFrame(polyed_weather, columns=pf.get_feature_names(weather_features))\n",
    "polyweather_df.drop(labels=weather_features, axis=1, inplace=True)"
   ]
  },
  {
   "cell_type": "code",
   "execution_count": 79,
   "metadata": {},
   "outputs": [],
   "source": [
    "# the test set has a column called UNSPECIFIED CULEX, which I have to add to the train set\n",
    "# I decided to just add it as a column of zeroes, since none of the species are unspecified\n",
    "# it will end up adding no information to the models, but it will prevent them from getting confused\n",
    "\n",
    "train[\"UNSPECIFIED CULEX\"] = 0"
   ]
  },
  {
   "cell_type": "code",
   "execution_count": 80,
   "metadata": {},
   "outputs": [],
   "source": [
    "train = train.join(polyweather_df)"
   ]
  },
  {
   "cell_type": "code",
   "execution_count": 81,
   "metadata": {
    "scrolled": true
   },
   "outputs": [
    {
     "name": "stdout",
     "output_type": "stream",
     "text": [
      "(10506, 104)\n"
     ]
    },
    {
     "data": {
      "text/html": [
       "<div>\n",
       "<style scoped>\n",
       "    .dataframe tbody tr th:only-of-type {\n",
       "        vertical-align: middle;\n",
       "    }\n",
       "\n",
       "    .dataframe tbody tr th {\n",
       "        vertical-align: top;\n",
       "    }\n",
       "\n",
       "    .dataframe thead th {\n",
       "        text-align: right;\n",
       "    }\n",
       "</style>\n",
       "<table border=\"1\" class=\"dataframe\">\n",
       "  <thead>\n",
       "    <tr style=\"text-align: right;\">\n",
       "      <th></th>\n",
       "      <th>Date</th>\n",
       "      <th>Num_Duplicates</th>\n",
       "      <th>WnvPresent</th>\n",
       "      <th>Year</th>\n",
       "      <th>Month</th>\n",
       "      <th>Day</th>\n",
       "      <th>CULEX ERRATICUS</th>\n",
       "      <th>CULEX PIPIENS</th>\n",
       "      <th>CULEX PIPIENS/RESTUANS</th>\n",
       "      <th>CULEX RESTUANS</th>\n",
       "      <th>CULEX SALINARIUS</th>\n",
       "      <th>CULEX TARSALIS</th>\n",
       "      <th>CULEX TERRITANS</th>\n",
       "      <th>Tmax</th>\n",
       "      <th>Tmin</th>\n",
       "      <th>Tavg</th>\n",
       "      <th>Depart</th>\n",
       "      <th>DewPoint</th>\n",
       "      <th>WetBulb</th>\n",
       "      <th>Cool</th>\n",
       "      <th>Sunrise</th>\n",
       "      <th>Sunset</th>\n",
       "      <th>PrecipTotal</th>\n",
       "      <th>ResultSpeed</th>\n",
       "      <th>ResultDir</th>\n",
       "      <th>...</th>\n",
       "      <th>WetBulb Sunset</th>\n",
       "      <th>WetBulb PrecipTotal</th>\n",
       "      <th>WetBulb ResultSpeed</th>\n",
       "      <th>WetBulb ResultDir</th>\n",
       "      <th>Cool^2</th>\n",
       "      <th>Cool Sunrise</th>\n",
       "      <th>Cool Sunset</th>\n",
       "      <th>Cool PrecipTotal</th>\n",
       "      <th>Cool ResultSpeed</th>\n",
       "      <th>Cool ResultDir</th>\n",
       "      <th>Sunrise^2</th>\n",
       "      <th>Sunrise Sunset</th>\n",
       "      <th>Sunrise PrecipTotal</th>\n",
       "      <th>Sunrise ResultSpeed</th>\n",
       "      <th>Sunrise ResultDir</th>\n",
       "      <th>Sunset^2</th>\n",
       "      <th>Sunset PrecipTotal</th>\n",
       "      <th>Sunset ResultSpeed</th>\n",
       "      <th>Sunset ResultDir</th>\n",
       "      <th>PrecipTotal^2</th>\n",
       "      <th>PrecipTotal ResultSpeed</th>\n",
       "      <th>PrecipTotal ResultDir</th>\n",
       "      <th>ResultSpeed^2</th>\n",
       "      <th>ResultSpeed ResultDir</th>\n",
       "      <th>ResultDir^2</th>\n",
       "    </tr>\n",
       "  </thead>\n",
       "  <tbody>\n",
       "    <tr>\n",
       "      <th>0</th>\n",
       "      <td>2007-05-29</td>\n",
       "      <td>1</td>\n",
       "      <td>0</td>\n",
       "      <td>2007</td>\n",
       "      <td>5</td>\n",
       "      <td>29</td>\n",
       "      <td>0</td>\n",
       "      <td>0</td>\n",
       "      <td>1</td>\n",
       "      <td>0</td>\n",
       "      <td>0</td>\n",
       "      <td>0</td>\n",
       "      <td>0</td>\n",
       "      <td>88</td>\n",
       "      <td>60</td>\n",
       "      <td>74</td>\n",
       "      <td>10</td>\n",
       "      <td>58</td>\n",
       "      <td>65</td>\n",
       "      <td>9</td>\n",
       "      <td>421</td>\n",
       "      <td>1917</td>\n",
       "      <td>0.0</td>\n",
       "      <td>5.8</td>\n",
       "      <td>18</td>\n",
       "      <td>...</td>\n",
       "      <td>124605.0</td>\n",
       "      <td>0.0</td>\n",
       "      <td>377.0</td>\n",
       "      <td>1170.0</td>\n",
       "      <td>81.0</td>\n",
       "      <td>3789.0</td>\n",
       "      <td>17253.0</td>\n",
       "      <td>0.0</td>\n",
       "      <td>52.2</td>\n",
       "      <td>162.0</td>\n",
       "      <td>177241.0</td>\n",
       "      <td>807057.0</td>\n",
       "      <td>0.0</td>\n",
       "      <td>2441.8</td>\n",
       "      <td>7578.0</td>\n",
       "      <td>3674889.0</td>\n",
       "      <td>0.0</td>\n",
       "      <td>11118.6</td>\n",
       "      <td>34506.0</td>\n",
       "      <td>0.0</td>\n",
       "      <td>0.0</td>\n",
       "      <td>0.0</td>\n",
       "      <td>33.64</td>\n",
       "      <td>104.4</td>\n",
       "      <td>324.0</td>\n",
       "    </tr>\n",
       "    <tr>\n",
       "      <th>1</th>\n",
       "      <td>2007-05-29</td>\n",
       "      <td>1</td>\n",
       "      <td>0</td>\n",
       "      <td>2007</td>\n",
       "      <td>5</td>\n",
       "      <td>29</td>\n",
       "      <td>0</td>\n",
       "      <td>0</td>\n",
       "      <td>0</td>\n",
       "      <td>1</td>\n",
       "      <td>0</td>\n",
       "      <td>0</td>\n",
       "      <td>0</td>\n",
       "      <td>88</td>\n",
       "      <td>60</td>\n",
       "      <td>74</td>\n",
       "      <td>10</td>\n",
       "      <td>58</td>\n",
       "      <td>65</td>\n",
       "      <td>9</td>\n",
       "      <td>421</td>\n",
       "      <td>1917</td>\n",
       "      <td>0.0</td>\n",
       "      <td>5.8</td>\n",
       "      <td>18</td>\n",
       "      <td>...</td>\n",
       "      <td>124605.0</td>\n",
       "      <td>0.0</td>\n",
       "      <td>377.0</td>\n",
       "      <td>1170.0</td>\n",
       "      <td>81.0</td>\n",
       "      <td>3789.0</td>\n",
       "      <td>17253.0</td>\n",
       "      <td>0.0</td>\n",
       "      <td>52.2</td>\n",
       "      <td>162.0</td>\n",
       "      <td>177241.0</td>\n",
       "      <td>807057.0</td>\n",
       "      <td>0.0</td>\n",
       "      <td>2441.8</td>\n",
       "      <td>7578.0</td>\n",
       "      <td>3674889.0</td>\n",
       "      <td>0.0</td>\n",
       "      <td>11118.6</td>\n",
       "      <td>34506.0</td>\n",
       "      <td>0.0</td>\n",
       "      <td>0.0</td>\n",
       "      <td>0.0</td>\n",
       "      <td>33.64</td>\n",
       "      <td>104.4</td>\n",
       "      <td>324.0</td>\n",
       "    </tr>\n",
       "    <tr>\n",
       "      <th>2</th>\n",
       "      <td>2007-05-29</td>\n",
       "      <td>1</td>\n",
       "      <td>0</td>\n",
       "      <td>2007</td>\n",
       "      <td>5</td>\n",
       "      <td>29</td>\n",
       "      <td>0</td>\n",
       "      <td>0</td>\n",
       "      <td>0</td>\n",
       "      <td>1</td>\n",
       "      <td>0</td>\n",
       "      <td>0</td>\n",
       "      <td>0</td>\n",
       "      <td>88</td>\n",
       "      <td>60</td>\n",
       "      <td>74</td>\n",
       "      <td>10</td>\n",
       "      <td>58</td>\n",
       "      <td>65</td>\n",
       "      <td>9</td>\n",
       "      <td>421</td>\n",
       "      <td>1917</td>\n",
       "      <td>0.0</td>\n",
       "      <td>5.8</td>\n",
       "      <td>18</td>\n",
       "      <td>...</td>\n",
       "      <td>124605.0</td>\n",
       "      <td>0.0</td>\n",
       "      <td>377.0</td>\n",
       "      <td>1170.0</td>\n",
       "      <td>81.0</td>\n",
       "      <td>3789.0</td>\n",
       "      <td>17253.0</td>\n",
       "      <td>0.0</td>\n",
       "      <td>52.2</td>\n",
       "      <td>162.0</td>\n",
       "      <td>177241.0</td>\n",
       "      <td>807057.0</td>\n",
       "      <td>0.0</td>\n",
       "      <td>2441.8</td>\n",
       "      <td>7578.0</td>\n",
       "      <td>3674889.0</td>\n",
       "      <td>0.0</td>\n",
       "      <td>11118.6</td>\n",
       "      <td>34506.0</td>\n",
       "      <td>0.0</td>\n",
       "      <td>0.0</td>\n",
       "      <td>0.0</td>\n",
       "      <td>33.64</td>\n",
       "      <td>104.4</td>\n",
       "      <td>324.0</td>\n",
       "    </tr>\n",
       "    <tr>\n",
       "      <th>3</th>\n",
       "      <td>2007-05-29</td>\n",
       "      <td>1</td>\n",
       "      <td>0</td>\n",
       "      <td>2007</td>\n",
       "      <td>5</td>\n",
       "      <td>29</td>\n",
       "      <td>0</td>\n",
       "      <td>0</td>\n",
       "      <td>1</td>\n",
       "      <td>0</td>\n",
       "      <td>0</td>\n",
       "      <td>0</td>\n",
       "      <td>0</td>\n",
       "      <td>88</td>\n",
       "      <td>60</td>\n",
       "      <td>74</td>\n",
       "      <td>10</td>\n",
       "      <td>58</td>\n",
       "      <td>65</td>\n",
       "      <td>9</td>\n",
       "      <td>421</td>\n",
       "      <td>1917</td>\n",
       "      <td>0.0</td>\n",
       "      <td>5.8</td>\n",
       "      <td>18</td>\n",
       "      <td>...</td>\n",
       "      <td>124605.0</td>\n",
       "      <td>0.0</td>\n",
       "      <td>377.0</td>\n",
       "      <td>1170.0</td>\n",
       "      <td>81.0</td>\n",
       "      <td>3789.0</td>\n",
       "      <td>17253.0</td>\n",
       "      <td>0.0</td>\n",
       "      <td>52.2</td>\n",
       "      <td>162.0</td>\n",
       "      <td>177241.0</td>\n",
       "      <td>807057.0</td>\n",
       "      <td>0.0</td>\n",
       "      <td>2441.8</td>\n",
       "      <td>7578.0</td>\n",
       "      <td>3674889.0</td>\n",
       "      <td>0.0</td>\n",
       "      <td>11118.6</td>\n",
       "      <td>34506.0</td>\n",
       "      <td>0.0</td>\n",
       "      <td>0.0</td>\n",
       "      <td>0.0</td>\n",
       "      <td>33.64</td>\n",
       "      <td>104.4</td>\n",
       "      <td>324.0</td>\n",
       "    </tr>\n",
       "    <tr>\n",
       "      <th>4</th>\n",
       "      <td>2007-05-29</td>\n",
       "      <td>1</td>\n",
       "      <td>0</td>\n",
       "      <td>2007</td>\n",
       "      <td>5</td>\n",
       "      <td>29</td>\n",
       "      <td>0</td>\n",
       "      <td>0</td>\n",
       "      <td>0</td>\n",
       "      <td>1</td>\n",
       "      <td>0</td>\n",
       "      <td>0</td>\n",
       "      <td>0</td>\n",
       "      <td>88</td>\n",
       "      <td>60</td>\n",
       "      <td>74</td>\n",
       "      <td>10</td>\n",
       "      <td>58</td>\n",
       "      <td>65</td>\n",
       "      <td>9</td>\n",
       "      <td>421</td>\n",
       "      <td>1917</td>\n",
       "      <td>0.0</td>\n",
       "      <td>5.8</td>\n",
       "      <td>18</td>\n",
       "      <td>...</td>\n",
       "      <td>124605.0</td>\n",
       "      <td>0.0</td>\n",
       "      <td>377.0</td>\n",
       "      <td>1170.0</td>\n",
       "      <td>81.0</td>\n",
       "      <td>3789.0</td>\n",
       "      <td>17253.0</td>\n",
       "      <td>0.0</td>\n",
       "      <td>52.2</td>\n",
       "      <td>162.0</td>\n",
       "      <td>177241.0</td>\n",
       "      <td>807057.0</td>\n",
       "      <td>0.0</td>\n",
       "      <td>2441.8</td>\n",
       "      <td>7578.0</td>\n",
       "      <td>3674889.0</td>\n",
       "      <td>0.0</td>\n",
       "      <td>11118.6</td>\n",
       "      <td>34506.0</td>\n",
       "      <td>0.0</td>\n",
       "      <td>0.0</td>\n",
       "      <td>0.0</td>\n",
       "      <td>33.64</td>\n",
       "      <td>104.4</td>\n",
       "      <td>324.0</td>\n",
       "    </tr>\n",
       "  </tbody>\n",
       "</table>\n",
       "<p>5 rows × 104 columns</p>\n",
       "</div>"
      ],
      "text/plain": [
       "         Date  Num_Duplicates  WnvPresent  Year  Month  Day  CULEX ERRATICUS  \\\n",
       "0  2007-05-29               1           0  2007      5   29                0   \n",
       "1  2007-05-29               1           0  2007      5   29                0   \n",
       "2  2007-05-29               1           0  2007      5   29                0   \n",
       "3  2007-05-29               1           0  2007      5   29                0   \n",
       "4  2007-05-29               1           0  2007      5   29                0   \n",
       "\n",
       "   CULEX PIPIENS  CULEX PIPIENS/RESTUANS  CULEX RESTUANS  CULEX SALINARIUS  \\\n",
       "0              0                       1               0                 0   \n",
       "1              0                       0               1                 0   \n",
       "2              0                       0               1                 0   \n",
       "3              0                       1               0                 0   \n",
       "4              0                       0               1                 0   \n",
       "\n",
       "   CULEX TARSALIS  CULEX TERRITANS  Tmax  Tmin  Tavg  Depart  DewPoint  \\\n",
       "0               0                0    88    60    74      10        58   \n",
       "1               0                0    88    60    74      10        58   \n",
       "2               0                0    88    60    74      10        58   \n",
       "3               0                0    88    60    74      10        58   \n",
       "4               0                0    88    60    74      10        58   \n",
       "\n",
       "   WetBulb  Cool  Sunrise  Sunset  PrecipTotal  ResultSpeed  ResultDir  \\\n",
       "0       65     9      421    1917          0.0          5.8         18   \n",
       "1       65     9      421    1917          0.0          5.8         18   \n",
       "2       65     9      421    1917          0.0          5.8         18   \n",
       "3       65     9      421    1917          0.0          5.8         18   \n",
       "4       65     9      421    1917          0.0          5.8         18   \n",
       "\n",
       "      ...       WetBulb Sunset  WetBulb PrecipTotal  WetBulb ResultSpeed  \\\n",
       "0     ...             124605.0                  0.0                377.0   \n",
       "1     ...             124605.0                  0.0                377.0   \n",
       "2     ...             124605.0                  0.0                377.0   \n",
       "3     ...             124605.0                  0.0                377.0   \n",
       "4     ...             124605.0                  0.0                377.0   \n",
       "\n",
       "   WetBulb ResultDir  Cool^2  Cool Sunrise  Cool Sunset  Cool PrecipTotal  \\\n",
       "0             1170.0    81.0        3789.0      17253.0               0.0   \n",
       "1             1170.0    81.0        3789.0      17253.0               0.0   \n",
       "2             1170.0    81.0        3789.0      17253.0               0.0   \n",
       "3             1170.0    81.0        3789.0      17253.0               0.0   \n",
       "4             1170.0    81.0        3789.0      17253.0               0.0   \n",
       "\n",
       "   Cool ResultSpeed  Cool ResultDir  Sunrise^2  Sunrise Sunset  \\\n",
       "0              52.2           162.0   177241.0        807057.0   \n",
       "1              52.2           162.0   177241.0        807057.0   \n",
       "2              52.2           162.0   177241.0        807057.0   \n",
       "3              52.2           162.0   177241.0        807057.0   \n",
       "4              52.2           162.0   177241.0        807057.0   \n",
       "\n",
       "   Sunrise PrecipTotal  Sunrise ResultSpeed  Sunrise ResultDir   Sunset^2  \\\n",
       "0                  0.0               2441.8             7578.0  3674889.0   \n",
       "1                  0.0               2441.8             7578.0  3674889.0   \n",
       "2                  0.0               2441.8             7578.0  3674889.0   \n",
       "3                  0.0               2441.8             7578.0  3674889.0   \n",
       "4                  0.0               2441.8             7578.0  3674889.0   \n",
       "\n",
       "   Sunset PrecipTotal  Sunset ResultSpeed  Sunset ResultDir  PrecipTotal^2  \\\n",
       "0                 0.0             11118.6           34506.0            0.0   \n",
       "1                 0.0             11118.6           34506.0            0.0   \n",
       "2                 0.0             11118.6           34506.0            0.0   \n",
       "3                 0.0             11118.6           34506.0            0.0   \n",
       "4                 0.0             11118.6           34506.0            0.0   \n",
       "\n",
       "   PrecipTotal ResultSpeed  PrecipTotal ResultDir  ResultSpeed^2  \\\n",
       "0                      0.0                    0.0          33.64   \n",
       "1                      0.0                    0.0          33.64   \n",
       "2                      0.0                    0.0          33.64   \n",
       "3                      0.0                    0.0          33.64   \n",
       "4                      0.0                    0.0          33.64   \n",
       "\n",
       "   ResultSpeed ResultDir  ResultDir^2  \n",
       "0                  104.4        324.0  \n",
       "1                  104.4        324.0  \n",
       "2                  104.4        324.0  \n",
       "3                  104.4        324.0  \n",
       "4                  104.4        324.0  \n",
       "\n",
       "[5 rows x 104 columns]"
      ]
     },
     "execution_count": 81,
     "metadata": {},
     "output_type": "execute_result"
    }
   ],
   "source": [
    "print(train.shape)\n",
    "train.head()"
   ]
  },
  {
   "cell_type": "code",
   "execution_count": 82,
   "metadata": {},
   "outputs": [],
   "source": [
    "# date is redundant with year/month/day columns and unreadable by some classifiers, so I'm dropping it\n",
    "train.drop(labels=\"Date\", axis=1, inplace=True)"
   ]
  },
  {
   "cell_type": "code",
   "execution_count": 10,
   "metadata": {},
   "outputs": [
    {
     "name": "stdout",
     "output_type": "stream",
     "text": [
      "1218\n",
      "9288\n"
     ]
    }
   ],
   "source": [
    "print((train[train.WnvPresent==1]).count()[\"WnvPresent\"])\n",
    "print((train[train.WnvPresent==0]).count()[\"WnvPresent\"])"
   ]
  },
  {
   "cell_type": "code",
   "execution_count": 11,
   "metadata": {},
   "outputs": [],
   "source": [
    "# data is very imbalanced so bootstrapping to evenness\n",
    "wnv_pres = train[train.WnvPresent==1]\n",
    "train_bootstrapped = wnv_pres.sample(n=8000, replace=True)"
   ]
  },
  {
   "cell_type": "code",
   "execution_count": 12,
   "metadata": {},
   "outputs": [],
   "source": [
    "train = pd.merge(train, train_bootstrapped, how=\"outer\")"
   ]
  },
  {
   "cell_type": "markdown",
   "metadata": {},
   "source": [
    "## Feature selection and modeling"
   ]
  },
  {
   "cell_type": "code",
   "execution_count": 13,
   "metadata": {},
   "outputs": [],
   "source": [
    "features = [x for x in train.columns if x != \"WnvPresent\"]\n",
    "y = train.WnvPresent\n",
    "X = train[features]"
   ]
  },
  {
   "cell_type": "code",
   "execution_count": 14,
   "metadata": {},
   "outputs": [],
   "source": [
    "X_train, X_test, y_train, y_test = train_test_split(X,y)"
   ]
  },
  {
   "cell_type": "markdown",
   "metadata": {},
   "source": [
    "#### SMOTE'ing"
   ]
  },
  {
   "cell_type": "markdown",
   "metadata": {},
   "source": [
    "We never really went over how to SMOTE so I just pulled this off the internet. It turned out to be not quite as good as regular oversampling bootstrapping"
   ]
  },
  {
   "cell_type": "code",
   "execution_count": 15,
   "metadata": {
    "scrolled": true
   },
   "outputs": [
    {
     "name": "stderr",
     "output_type": "stream",
     "text": [
      "/Users/brianconnor/anaconda3/lib/python3.6/site-packages/sklearn/utils/deprecation.py:77: DeprecationWarning: Function _ratio_float is deprecated; Use a float for 'ratio' is deprecated from version 0.2. The support will be removed in 0.4. Use a dict, str, or a callable instead.\n",
      "  warnings.warn(msg, category=DeprecationWarning)\n"
     ]
    }
   ],
   "source": [
    "from imblearn.over_sampling import SMOTE\n",
    "\n",
    "sm = SMOTE(ratio=1.0)\n",
    "smote_X, smote_Y = sm.fit_sample(X, y)"
   ]
  },
  {
   "cell_type": "code",
   "execution_count": 16,
   "metadata": {},
   "outputs": [],
   "source": [
    "Xs_train, Xs_test, ys_train, ys_test = train_test_split(smote_X, smote_Y)"
   ]
  },
  {
   "cell_type": "code",
   "execution_count": 17,
   "metadata": {},
   "outputs": [
    {
     "data": {
      "text/plain": [
       "0.8905330014591022"
      ]
     },
     "execution_count": 17,
     "metadata": {},
     "output_type": "execute_result"
    }
   ],
   "source": [
    "lrs = LogisticRegression(penalty=\"l2\")\n",
    "lrs.fit(Xs_train, ys_train)\n",
    "lrs.score(Xs_test, ys_test)"
   ]
  },
  {
   "cell_type": "markdown",
   "metadata": {},
   "source": [
    "#### Logistic Regression"
   ]
  },
  {
   "cell_type": "markdown",
   "metadata": {},
   "source": [
    "I picked LogReg as a sort of baseline model but it turned out to be the best overall (Kaggle score of .64) after checking the rest of the models"
   ]
  },
  {
   "cell_type": "code",
   "execution_count": 18,
   "metadata": {},
   "outputs": [
    {
     "data": {
      "text/plain": [
       "0.9485627761180307"
      ]
     },
     "execution_count": 18,
     "metadata": {},
     "output_type": "execute_result"
    }
   ],
   "source": [
    "# fit and cross val\n",
    "lr = LogisticRegression(penalty=\"l2\")\n",
    "lr.fit(X_train, y_train)\n",
    "cross_val_score(lr, X_train, y_train).mean()"
   ]
  },
  {
   "cell_type": "code",
   "execution_count": 19,
   "metadata": {
    "scrolled": false
   },
   "outputs": [
    {
     "data": {
      "text/plain": [
       "0.9517011128775834"
      ]
     },
     "execution_count": 19,
     "metadata": {},
     "output_type": "execute_result"
    }
   ],
   "source": [
    "# test score (r2)\n",
    "lr.score(X_test, y_test)"
   ]
  },
  {
   "cell_type": "code",
   "execution_count": 88,
   "metadata": {},
   "outputs": [],
   "source": [
    "from sklearn.metrics import roc_auc_score\n",
    "y_test_preds = lr.predict(X_test)\n",
    "auc_lr = roc_auc_score(y_test, y_test_preds)"
   ]
  },
  {
   "cell_type": "code",
   "execution_count": 89,
   "metadata": {},
   "outputs": [
    {
     "data": {
      "text/plain": [
       "0.7001027554266076"
      ]
     },
     "execution_count": 89,
     "metadata": {},
     "output_type": "execute_result"
    }
   ],
   "source": [
    "auc_lr"
   ]
  },
  {
   "cell_type": "code",
   "execution_count": 72,
   "metadata": {},
   "outputs": [
    {
     "data": {
      "image/png": "[encoded data removed]",
      "text/plain": [
       "<Figure size 576x576 with 1 Axes>"
      ]
     },
     "metadata": {},
     "output_type": "display_data"
    }
   ],
   "source": [
    "# making an auc-roc curve\n",
    "probs = lr.predict_proba(X_test)\n",
    "preds = probs[:,1]\n",
    "fpr, tpr, threshold = roc_curve(y_test, preds)\n",
    "roc_auc = auc(fpr, tpr)\n",
    "\n",
    "plt.figure(figsize=(8,8))\n",
    "plt.title('Receiver Operating Characteristic', ha = 'left', x = 0, fontsize = 20)\n",
    "plt.plot(fpr, tpr, c = 'mediumslateblue', label = 'AUC = %0.2f' % roc_auc, lw = 4)\n",
    "plt.legend(loc = 'lower right')\n",
    "plt.plot([0, 1], [0, 1],'r--', lw = 4)\n",
    "plt.xlim([0, 1])\n",
    "plt.ylim([0, 1])\n",
    "plt.ylabel('True Positive Rate', fontsize = 18)\n",
    "plt.xlabel('False Positive Rate', fontsize = 18)\n",
    "plt.xticks(fontsize = 18)\n",
    "plt.yticks(fontsize = 18);"
   ]
  },
  {
   "cell_type": "markdown",
   "metadata": {},
   "source": [
    "#### Logistic Coefficients"
   ]
  },
  {
   "cell_type": "code",
   "execution_count": 90,
   "metadata": {},
   "outputs": [],
   "source": [
    "# dataframe of logistic coefficients\n",
    "\n",
    "lr_coefs = abs(lr.coef_)\n",
    "lrcoef_df = pd.DataFrame(lr_coefs)\n",
    "lrcoef_df = lrcoef_df.transpose()\n",
    "lrcoef_df.set_index(X_train.columns, inplace=True)\n",
    "lrcoef_df.rename({0:\"Coefficients\"}, axis=1, inplace=True)"
   ]
  },
  {
   "cell_type": "code",
   "execution_count": 91,
   "metadata": {
    "scrolled": true
   },
   "outputs": [],
   "source": [
    "lrcoef_df.sort_values(by=\"Coefficients\", ascending=False, inplace=True)"
   ]
  },
  {
   "cell_type": "code",
   "execution_count": 93,
   "metadata": {},
   "outputs": [],
   "source": [
    "best_preds = lrcoef_df[0:10]"
   ]
  },
  {
   "cell_type": "markdown",
   "metadata": {},
   "source": [
    " "
   ]
  },
  {
   "cell_type": "code",
   "execution_count": 1,
   "metadata": {},
   "outputs": [],
   "source": [
    "# originally was going to do pos and neg but switched to absolute value\n",
    "\n",
    "# coef_pos = lrcoef_df[0:10]"
   ]
  },
  {
   "cell_type": "code",
   "execution_count": 62,
   "metadata": {},
   "outputs": [],
   "source": [
    "# lrcoef_df.sort_values(by=\"Coefficients\", ascending=True, inplace=True)\n",
    "# coef_neg = lrcoef_df[0:10]"
   ]
  },
  {
   "cell_type": "markdown",
   "metadata": {},
   "source": [
    " "
   ]
  },
  {
   "cell_type": "code",
   "execution_count": 99,
   "metadata": {},
   "outputs": [
    {
     "data": {
      "text/plain": [
       "Text(0.5,1,'Best Predictors')"
      ]
     },
     "execution_count": 99,
     "metadata": {},
     "output_type": "execute_result"
    },
    {
     "data": {
      "image/png": "[encoded data removed]",
      "text/plain": [
       "<Figure size 432x432 with 1 Axes>"
      ]
     },
     "metadata": {},
     "output_type": "display_data"
    }
   ],
   "source": [
    "fig, ax = plt.subplots(figsize=(6,6))\n",
    "\n",
    "plt.xticks(rotation = 45)\n",
    "\n",
    "best_preds.plot(kind=\"barh\", ax=ax)\n",
    "plt.title(\"Best Predictors\")"
   ]
  },
  {
   "cell_type": "markdown",
   "metadata": {},
   "source": [
    "## Working with the hold out set"
   ]
  },
  {
   "cell_type": "markdown",
   "metadata": {},
   "source": [
    "#### Preparing it in the same way as the test set"
   ]
  },
  {
   "cell_type": "code",
   "execution_count": 20,
   "metadata": {
    "scrolled": true
   },
   "outputs": [
    {
     "data": {
      "text/plain": [
       "(116293, 25)"
      ]
     },
     "execution_count": 20,
     "metadata": {},
     "output_type": "execute_result"
    }
   ],
   "source": [
    "test.shape"
   ]
  },
  {
   "cell_type": "code",
   "execution_count": 21,
   "metadata": {},
   "outputs": [],
   "source": [
    "poly_test = pf.transform(test[weather_features])\n",
    "polytest_df = pd.DataFrame(poly_test, columns=pf.get_feature_names(weather_features))"
   ]
  },
  {
   "cell_type": "code",
   "execution_count": 22,
   "metadata": {},
   "outputs": [],
   "source": [
    "test.drop(labels=weather_features, axis=1, inplace=True)\n",
    "test = test.join(polytest_df)"
   ]
  },
  {
   "cell_type": "code",
   "execution_count": 23,
   "metadata": {},
   "outputs": [],
   "source": [
    "test.drop(labels=\"Date\", axis=1, inplace=True)"
   ]
  },
  {
   "cell_type": "markdown",
   "metadata": {},
   "source": [
    "#### Logistic Regression Preds"
   ]
  },
  {
   "cell_type": "code",
   "execution_count": 24,
   "metadata": {},
   "outputs": [],
   "source": [
    "lr_preds = pd.DataFrame(data=lr.predict(test), columns=[\"WnvPresent\"])"
   ]
  },
  {
   "cell_type": "code",
   "execution_count": 25,
   "metadata": {},
   "outputs": [],
   "source": [
    "lr_preds.index.rename(\"Id\", inplace=True)"
   ]
  },
  {
   "cell_type": "code",
   "execution_count": 26,
   "metadata": {},
   "outputs": [],
   "source": [
    "# index is off by 1 for kaggle submission\n",
    "lr_preds.index += 1"
   ]
  },
  {
   "cell_type": "code",
   "execution_count": 27,
   "metadata": {},
   "outputs": [],
   "source": [
    "lr_preds.to_csv(\"./bc_lr_sub_9_19_18\")"
   ]
  },
  {
   "cell_type": "markdown",
   "metadata": {},
   "source": [
    "#### LogReg with SMOTE"
   ]
  },
  {
   "cell_type": "code",
   "execution_count": 28,
   "metadata": {},
   "outputs": [],
   "source": [
    "lrs_preds = pd.DataFrame(data=lrs.predict(test), columns=[\"WnvPresent\"])"
   ]
  },
  {
   "cell_type": "code",
   "execution_count": 29,
   "metadata": {},
   "outputs": [],
   "source": [
    "lrs_preds.index.rename(\"Id\", inplace=True)\n",
    "lrs_preds.index += 1"
   ]
  },
  {
   "cell_type": "code",
   "execution_count": 30,
   "metadata": {},
   "outputs": [],
   "source": [
    "lrs_preds.to_csv(\"./bc_lr_SMOTE_sub_9_19_18\")"
   ]
  }
 ],
 "metadata": {
  "kernelspec": {
   "display_name": "Python 3",
   "language": "python",
   "name": "python3"
  },
  "language_info": {
   "codemirror_mode": {
    "name": "ipython",
    "version": 3
   },
   "file_extension": ".py",
   "mimetype": "text/x-python",
   "name": "python",
   "nbconvert_exporter": "python",
   "pygments_lexer": "ipython3",
   "version": "3.6.5"
  }
 },
 "nbformat": 4,
 "nbformat_minor": 2
}
